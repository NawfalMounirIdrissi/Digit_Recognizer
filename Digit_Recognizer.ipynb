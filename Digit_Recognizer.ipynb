{
 "cells": [
  {
   "cell_type": "code",
   "execution_count": null,
   "metadata": {},
   "outputs": [],
   "source": [
    "# Importing tools\n",
    "\n",
    "import numpy as np\n",
    "import pandas as pd\n",
    "import matplotlib.pyplot as plt\n",
    "import tensorflow as tf\n",
    "from tensorflow import keras\n",
    "from tensorflow.keras import layers\n",
    "from sklearn.utils import shuffle\n",
    "from tqdm import tqdm\n",
    "import math\n",
    "from tensorflow.keras import regularizers"
   ]
  },
  {
   "cell_type": "code",
   "execution_count": null,
   "metadata": {},
   "outputs": [],
   "source": [
    "# Loading Data\n",
    "\n",
    "data = pd.read_csv(\"train.csv\", delimiter=\",\")\n",
    "test = pd.read_csv(\"test.csv\", delimiter=\",\")\n",
    "submission = pd.read_csv(\"sample_submission.csv\", delimiter=\",\")"
   ]
  },
  {
   "cell_type": "code",
   "execution_count": null,
   "metadata": {},
   "outputs": [],
   "source": [
    "# Training Data\n",
    "\n",
    "X = data.loc[:, data.columns != \"label\"]\n",
    "y = data[\"label\"]\n",
    "\n",
    "# Transforming the dataframes to arrays\n",
    "X_train = X.to_numpy()\n",
    "y_train = y.to_numpy()"
   ]
  },
  {
   "cell_type": "code",
   "execution_count": null,
   "metadata": {},
   "outputs": [],
   "source": [
    "# Testing Data\n",
    "\n",
    "X_test = test.to_numpy()"
   ]
  },
  {
   "cell_type": "code",
   "execution_count": null,
   "metadata": {},
   "outputs": [],
   "source": [
    "# Visualizing Data\n",
    "\n",
    "X = X_train\n",
    "y = y_train\n",
    "\n",
    "m, n = X.shape\n",
    "\n",
    "# Create a figure and a set of subplots\n",
    "fig, axes = plt.subplots(10, 10, figsize=(7, 7))\n",
    "fig.tight_layout(pad=0.1)\n",
    "\n",
    "for i, ax in enumerate(axes.flat):\n",
    "    # Select a random index\n",
    "    r = np.random.randint(m)\n",
    "\n",
    "    # Reshape the array and transpose \n",
    "    X_reshaped = X[r].reshape((28,28))\n",
    "\n",
    "    # Plot the image \n",
    "    ax.imshow(X_reshaped, cmap=\"gray\")\n",
    "\n",
    "    # Setting the label\n",
    "    ax.set_title(y[r])\n",
    "  \n",
    "    # Removing the axes to get a cleaner figure\n",
    "    ax.set_axis_off()"
   ]
  },
  {
   "cell_type": "code",
   "execution_count": null,
   "metadata": {},
   "outputs": [],
   "source": [
    "model = keras.Sequential(\n",
    "    [\n",
    "      layers.InputLayer(input_shape = (784,)),\n",
    "      layers.Dense(128, activation = \"relu\", name = \"layer1\"),\n",
    "      layers.Dense(64, activation = \"relu\", name = \"layer2\"),\n",
    "      layers.Dense(32, activation = \"relu\", name = \"layer3\"),\n",
    "      layers.Dense(10, activation = \"linear\", name = \"layer4\")\n",
    "    ]\n",
    ")\n",
    "\n",
    "# Configuring the model\n",
    "\n",
    "model.compile(\n",
    "    optimizer = tf.keras.optimizers.Adam(0.001),\n",
    "    loss = tf.keras.losses.SparseCategoricalCrossentropy(from_logits=True),\n",
    "    metrics = tf.keras.metrics.SparseCategoricalAccuracy()\n",
    ")\n",
    "\n",
    "# Model summary\n",
    "model.summary()\n",
    "\n",
    "# Training the model \n",
    "\n",
    "history = model.fit(\n",
    "    X_train,\n",
    "    y_train,\n",
    "    validation_split = 0.2,\n",
    "    batch_size = 64,\n",
    "    epochs = 50\n",
    ")"
   ]
  },
  {
   "cell_type": "code",
   "execution_count": null,
   "metadata": {},
   "outputs": [],
   "source": [
    "# Learning curves\n",
    "\n",
    "fig, ax = plt.subplots(1, 1, figsize = (8, 6))\n",
    "ax.plot(history.history['loss'], label=\"Training loss\", color='blue')\n",
    "ax.plot(history.history['val_loss'], label=\"Validation loss\", color='orange')\n",
    "plt.legend()\n",
    "plt.show()"
   ]
  },
  {
   "cell_type": "code",
   "execution_count": null,
   "metadata": {},
   "outputs": [],
   "source": [
    "# Verifiying predictions\n",
    "\n",
    "m, n = X_test.shape\n",
    "\n",
    "fig, axes = plt.subplots(10,10, figsize=(8,8))\n",
    "fig.tight_layout(pad=0.1,rect=[0, 0.03, 1, 0.92]) #[left, bottom, right, top]\n",
    "\n",
    "h = []\n",
    "for i,ax in enumerate(axes.flat):\n",
    "    # Select random indices\n",
    "    random_index = np.random.randint(m)\n",
    "    \n",
    "    # Select rows corresponding to the random indices and\n",
    "    # reshape the image\n",
    "    X_random_reshaped = X_test[random_index].reshape((28,28))\n",
    "    \n",
    "    # Display the image\n",
    "    ax.imshow(X_random_reshaped, cmap='gray')\n",
    "    \n",
    "    # Predict using the Neural Network\n",
    "    prediction = model.predict(X_test[random_index].reshape(1,784))\n",
    "    yhat = np.argmax(prediction)\n",
    "    \n",
    "    h.append(yhat)\n",
    "    \n",
    "    # Display the label above the image\n",
    "    ax.set_title(f\"{yhat}\")\n",
    "    ax.set_axis_off()\n",
    "\n",
    "fig.suptitle(\"Predictions on test set\", fontsize=16)\n",
    "plt.show()"
   ]
  },
  {
   "cell_type": "code",
   "execution_count": null,
   "metadata": {},
   "outputs": [],
   "source": [
    "# Generating the prediction submission\n",
    "\n",
    "\n",
    "for i in range(len(X_test)):\n",
    "    prediction = model.predict(X_test[i].reshape(1,784))\n",
    "    submission['Label'][i] = np.argmax(prediction)"
   ]
  },
  {
   "cell_type": "code",
   "execution_count": null,
   "metadata": {},
   "outputs": [],
   "source": [
    "# Generating the submission file\n",
    "\n",
    "submission.to_csv(\"Submission.csv\", index=False)"
   ]
  }
 ],
 "metadata": {
  "kernelspec": {
   "display_name": "Python 3.7.9 64-bit",
   "language": "python",
   "name": "python3"
  },
  "language_info": {
   "codemirror_mode": {
    "name": "ipython",
    "version": 3
   },
   "file_extension": ".py",
   "mimetype": "text/x-python",
   "name": "python",
   "nbconvert_exporter": "python",
   "pygments_lexer": "ipython3",
   "version": "3.7.9"
  },
  "orig_nbformat": 4,
  "vscode": {
   "interpreter": {
    "hash": "a51cbb358f6289bc1d4f670b0c4307f9d10ed1a6bf606a1db1073b94f69d8387"
   }
  }
 },
 "nbformat": 4,
 "nbformat_minor": 2
}
